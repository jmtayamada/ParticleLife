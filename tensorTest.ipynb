{
 "cells": [
  {
   "cell_type": "code",
   "execution_count": 1,
   "metadata": {},
   "outputs": [],
   "source": [
    "import torch\n",
    "import math\n",
    "import numpy as np\n",
    "import time"
   ]
  },
  {
   "cell_type": "code",
   "execution_count": 2,
   "metadata": {},
   "outputs": [],
   "source": [
    "device = (\"mps\")"
   ]
  },
  {
   "cell_type": "code",
   "execution_count": 3,
   "metadata": {},
   "outputs": [
    {
     "name": "stdout",
     "output_type": "stream",
     "text": [
      "[6 7 2 7 8 6 7 2 7 8 6 7 2 7 8 6 7 2 7 8]\n",
      "tensor([6, 7, 2, 7, 8, 6, 7, 2, 7, 8, 6, 7, 2, 7, 8, 6, 7, 2, 7, 8],\n",
      "       device='mps:0')\n",
      "tensor([6, 7, 2, 7, 8, 6, 7, 2, 7, 8, 6, 7, 2, 7, 8, 6, 7, 2, 7, 8])\n"
     ]
    }
   ],
   "source": [
    "tensor1 = torch.tensor([6, 7, 2, 7, 8, 6, 7, 2, 7, 8, 6, 7, 2, 7, 8, 6, 7, 2, 7, 8], dtype=int, device=device)\n",
    "numpyarray = tensor1.cpu().numpy()\n",
    "tensor2 = torch.tensor([6, 7, 2, 7, 8, 6, 7, 2, 7, 8, 6, 7, 2, 7, 8, 6, 7, 2, 7, 8], dtype=int, device=\"cpu\")\n",
    "print(numpyarray)\n",
    "print(tensor1)\n",
    "print(tensor2)"
   ]
  },
  {
   "cell_type": "code",
   "execution_count": null,
   "metadata": {},
   "outputs": [],
   "source": [
    "print(tensor2)\n",
    "start = time.time()\n",
    "tempTensor = tensor2.to(device)\n",
    "start2 = time.time()\n",
    "tempTensor.add_(1)\n",
    "end2 = time.time()\n",
    "print(end2-start2)\n",
    "tensor2 = tempTensor.to(\"cpu\")\n",
    "end = time.time()\n",
    "print(end-start)\n",
    "print(tensor2)\n"
   ]
  },
  {
   "cell_type": "code",
   "execution_count": 4,
   "metadata": {},
   "outputs": [
    {
     "data": {
      "text/plain": [
       "tensor([6, 7, 2, 7, 8, 6, 7, 2, 7, 8, 6, 7, 2, 7, 8, 6, 7, 2, 7, 8],\n",
       "       device='mps:0')"
      ]
     },
     "execution_count": 4,
     "metadata": {},
     "output_type": "execute_result"
    }
   ],
   "source": [
    "tensor1"
   ]
  },
  {
   "cell_type": "code",
   "execution_count": 5,
   "metadata": {},
   "outputs": [
    {
     "name": "stdout",
     "output_type": "stream",
     "text": [
      "tensor([6, 7, 2, 7, 8, 6, 7, 2, 7, 8, 6, 7, 2, 7, 8, 6, 7, 2, 7, 8],\n",
      "       device='mps:0')\n",
      "tensor([6, 7, 2, 7, 8, 6, 7, 2, 7, 8, 6, 7, 2, 7, 8, 6, 7, 2, 7, 8])\n"
     ]
    }
   ],
   "source": [
    "tensor3 = tensor1.to(\"cpu\")\n",
    "print(tensor1)\n",
    "print(tensor3)"
   ]
  },
  {
   "cell_type": "code",
   "execution_count": null,
   "metadata": {},
   "outputs": [],
   "source": []
  }
 ],
 "metadata": {
  "kernelspec": {
   "display_name": "pygame",
   "language": "python",
   "name": "python3"
  },
  "language_info": {
   "codemirror_mode": {
    "name": "ipython",
    "version": 3
   },
   "file_extension": ".py",
   "mimetype": "text/x-python",
   "name": "python",
   "nbconvert_exporter": "python",
   "pygments_lexer": "ipython3",
   "version": "3.11.7"
  }
 },
 "nbformat": 4,
 "nbformat_minor": 2
}
